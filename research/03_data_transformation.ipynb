{
 "cells": [
  {
   "cell_type": "code",
   "execution_count": 1,
   "metadata": {},
   "outputs": [
    {
     "data": {
      "text/plain": [
       "'e:\\\\project_ineuron\\\\Air_Quality_Index_Predictor\\\\research'"
      ]
     },
     "execution_count": 1,
     "metadata": {},
     "output_type": "execute_result"
    }
   ],
   "source": [
    "import os\n",
    "%pwd"
   ]
  },
  {
   "cell_type": "code",
   "execution_count": 2,
   "metadata": {},
   "outputs": [
    {
     "data": {
      "text/plain": [
       "'e:\\\\project_ineuron\\\\Air_Quality_Index_Predictor'"
      ]
     },
     "execution_count": 2,
     "metadata": {},
     "output_type": "execute_result"
    }
   ],
   "source": [
    "os.chdir(\"../\")\n",
    "%pwd"
   ]
  },
  {
   "cell_type": "code",
   "execution_count": 3,
   "metadata": {},
   "outputs": [],
   "source": [
    "import warnings\n",
    "warnings.filterwarnings(\"ignore\")"
   ]
  },
  {
   "cell_type": "code",
   "execution_count": 4,
   "metadata": {},
   "outputs": [],
   "source": [
    "from dataclasses import dataclass\n",
    "from pathlib import Path\n",
    "\n",
    "\n",
    "@dataclass(frozen=True)\n",
    "class DataTransformationConfig:\n",
    "    root_dir: Path\n",
    "    data_path: Path"
   ]
  },
  {
   "cell_type": "code",
   "execution_count": 6,
   "metadata": {},
   "outputs": [],
   "source": [
    "from Air_Quality_Index_Predictor.constants import *\n",
    "from Air_Quality_Index_Predictor.utils.common import read_yaml, create_directories"
   ]
  },
  {
   "cell_type": "code",
   "execution_count": 7,
   "metadata": {},
   "outputs": [],
   "source": [
    "class ConfigurationManager:\n",
    "    def __init__(\n",
    "        self,\n",
    "        config_filepath = CONFIG_FILE_PATH,\n",
    "        params_filepath = PARAMS_FILE_PATH):\n",
    "\n",
    "        self.config = read_yaml(config_filepath)\n",
    "        self.params = read_yaml(params_filepath)\n",
    "\n",
    "        create_directories([self.config.artifacts_root])\n",
    "\n",
    "\n",
    "    \n",
    "    def get_data_transformation_config(self) -> DataTransformationConfig:\n",
    "        config = self.config.data_transformation\n",
    "\n",
    "        create_directories([config.root_dir])\n",
    "\n",
    "        data_transformation_config = DataTransformationConfig(\n",
    "            root_dir=config.root_dir,\n",
    "            data_path=config.data_path\n",
    "        )\n",
    "\n",
    "        return data_transformation_config"
   ]
  },
  {
   "cell_type": "code",
   "execution_count": 8,
   "metadata": {},
   "outputs": [],
   "source": [
    "import os\n",
    "from Air_Quality_Index_Predictor.utils.common import read_yaml, create_directories, breakpoints_dict, get_subindex\n",
    "from Air_Quality_Index_Predictor.logging import logger\n",
    "import pandas as pd\n",
    "import numpy as np \n",
    "from datetime import datetime,timedelta"
   ]
  },
  {
   "cell_type": "code",
   "execution_count": 9,
   "metadata": {},
   "outputs": [],
   "source": [
    "class DataTransformation:\n",
    "    def __init__(self, config: DataTransformationConfig):\n",
    "        self.config = config\n",
    "\n",
    "\n",
    "    def clean_specie_column(self, df):\n",
    "        df['specie'] = df['specie'].str.lower()\n",
    "        df['specie'].replace(to_replace=dict(pm25=\"pm2.5\"), inplace=True)\n",
    "        return df\n",
    "    \n",
    "    def clean_city_names(self, df):\n",
    "        df['city'].replace(to_replace=dict(Hāpur=\"Hapur\", Ghāziābād=\"Ghaziabad\"), inplace=True)\n",
    "        return df\n",
    "    \n",
    "    def pivot_dataset(self, dataset):\n",
    "        return (dataset\n",
    "            .pivot_table(index=['date', 'city'], columns='specie', values='median')\n",
    "            .reset_index()\n",
    "            .rename_axis(None, axis=1)\n",
    "            .rename_axis('Index'))\n",
    "    \n",
    "    def rename_pollutants_columns(self, df):\n",
    "        df.rename(columns={'co': 'CO', 'no2': 'NO2', 'o3': 'O3', 'pm10': 'PM10', 'pm2.5': 'PM2.5', 'so2': 'SO2'}, inplace=True)\n",
    "        return df\n",
    "    \n",
    "    def convert_date_column(self, df, date_column, date_format):\n",
    "        df['date'] = df['date'].str.replace('/', '-')\n",
    "        df[date_column] = pd.to_datetime(df[date_column], format=date_format)\n",
    "        return df\n",
    "\n",
    "    def filter_year(self, df, year):\n",
    "        df = df[df['date'].dt.year != year]\n",
    "        return df\n",
    "    \n",
    "\n",
    "\n",
    "    def calculate_subindices(self, df, breakpoints_dict):\n",
    "        subindices = {}\n",
    "        for column, breakpoints in breakpoints_dict.items():\n",
    "            subindices[column] = df[column].apply(lambda x: get_subindex(x, breakpoints))\n",
    "        return subindices\n",
    "\n",
    "    def calculate_AQI(self, new_df):\n",
    "        new_df[\"Checks\"] = (new_df[\"PM2.5_SubIndex\"] > 0).astype(int) + \\\n",
    "                        (new_df[\"PM10_SubIndex\"] > 0).astype(int) + \\\n",
    "                        (new_df[\"SO2_SubIndex\"] > 0).astype(int) + \\\n",
    "                        (new_df[\"NO2_SubIndex\"] > 0).astype(int) + \\\n",
    "                        (new_df[\"CO_SubIndex\"] > 0).astype(int) + \\\n",
    "                        (new_df[\"O3_SubIndex\"] > 0).astype(int)\n",
    "\n",
    "        new_df[\"AQI_calculated\"] = round(new_df[[\"PM2.5_SubIndex\", \"PM10_SubIndex\", \"SO2_SubIndex\", \"NO2_SubIndex\",\n",
    "                                        \"CO_SubIndex\", \"O3_SubIndex\"]].max(axis=1))\n",
    "        new_df.loc[new_df[\"PM2.5_SubIndex\"] + new_df[\"PM10_SubIndex\"] <= 0, \"AQI_calculated\"] = np.NaN\n",
    "        new_df.loc[new_df.Checks < 3, \"AQI_calculated\"] = np.NaN\n",
    "        return new_df\n",
    "\n",
    "    def calculate_AQI_bucket(self, new_df):\n",
    "        def get_AQI_bucket(x):\n",
    "            if x <= 50:\n",
    "                return \"Good\"\n",
    "            elif x <= 100:\n",
    "                return \"Satisfactory\"\n",
    "            elif x <= 200:\n",
    "                return \"Moderate\"\n",
    "            elif x <= 300:\n",
    "                return \"Poor\"\n",
    "            elif x <= 400:\n",
    "                return \"Very Poor\"\n",
    "            elif x > 400:\n",
    "                return \"Severe\"\n",
    "            else:\n",
    "                return np.NaN\n",
    "\n",
    "        new_df[\"AQI_bucket_calculated\"] = new_df[\"AQI_calculated\"].apply(lambda x: get_AQI_bucket(x))\n",
    "        return new_df\n",
    "    \n",
    "    \n",
    "    def convert(self):\n",
    "        dataset = pd.read_csv(self.config.data_path)\n",
    "        logger.info(\"Data read successfully\")\n",
    "\n",
    "        dataset = self.clean_specie_column(dataset)\n",
    "        dataset = self.clean_city_names(dataset)\n",
    "        logger.info(\"Data clean successfully\")\n",
    "\n",
    "        dataset = self.pivot_dataset(dataset)\n",
    "        logger.info(\"Data pivoted successfully\")\n",
    "\n",
    "        dataset = self.rename_pollutants_columns(dataset)\n",
    "        logger.info(\"Data renamed successfully\")\n",
    "\n",
    "        dataset = self.convert_date_column(dataset, 'date', \"%d-%m-%Y\")\n",
    "        dataset = self.filter_year(dataset, 2014)\n",
    "        logger.info(\"Data date adjusted successfully\")\n",
    "\n",
    "        subindices = self.calculate_subindices(dataset, breakpoints_dict)\n",
    "        logger.info(\"Data subindices calculated successfully\")\n",
    "\n",
    "        for column, subindex_values in subindices.items():\n",
    "            dataset[f\"{column}_SubIndex\"] = subindex_values\n",
    "        logger.info(\"Data subindex added  successfully\")\n",
    "\n",
    "        dataset = self.calculate_AQI(dataset)\n",
    "        dataset = self.calculate_AQI_bucket(dataset)\n",
    "        logger.info(\"Data AQI calculated successfully\")\n",
    "        \n",
    "        dataset.set_index('date', inplace=True)\n",
    "        dataset = dataset.sort_index(ascending=True)\n",
    "\n",
    "        train_dataset_end = pd.Timestamp(datetime(2023, 5, 1))\n",
    "        test_dataset_start = train_dataset_end + timedelta(days=1) \n",
    "        test_dataset_end = pd.Timestamp(datetime(2023, 10, 1))\n",
    "\n",
    "        train_data = dataset.loc[:train_dataset_end]\n",
    "        test_data = dataset.loc[test_dataset_start:test_dataset_end]\n",
    "        \n",
    "        train_data.to_csv(os.path.join(self.config.root_dir, \"train_dataset.csv\"))\n",
    "        test_data.to_csv(os.path.join(self.config.root_dir, \"test_dataset.csv\"))\n",
    "        logger.info(\"Train and Test data made successfully\")\n"
   ]
  },
  {
   "cell_type": "code",
   "execution_count": 10,
   "metadata": {},
   "outputs": [
    {
     "name": "stdout",
     "output_type": "stream",
     "text": [
      "[2024-05-08 17:41:15,519 : INFO : common : yaml file: config\\config.yaml loaded successfully]\n"
     ]
    },
    {
     "name": "stdout",
     "output_type": "stream",
     "text": [
      "[2024-05-08 17:41:15,572 : INFO : common : yaml file: params.yaml loaded successfully]\n",
      "[2024-05-08 17:41:15,583 : INFO : common : Created directory at: artifacts]\n",
      "[2024-05-08 17:41:15,585 : INFO : common : Created directory at: artifacts/data_transformation]\n",
      "[2024-05-08 17:41:16,851 : INFO : 1551347022 : Data read successfully]\n",
      "[2024-05-08 17:41:17,338 : INFO : 1551347022 : Data clean successfully]\n",
      "[2024-05-08 17:41:18,440 : INFO : 1551347022 : Data pivoted successfully]\n",
      "[2024-05-08 17:41:18,440 : INFO : 1551347022 : Data renamed successfully]\n",
      "[2024-05-08 17:41:18,590 : INFO : 1551347022 : Data date adjusted successfully]\n",
      "[2024-05-08 17:41:18,923 : INFO : 1551347022 : Data subindices calculated successfully]\n",
      "[2024-05-08 17:41:18,938 : INFO : 1551347022 : Data subindex added  successfully]\n",
      "[2024-05-08 17:41:19,032 : INFO : 1551347022 : Data AQI calculated successfully]\n",
      "[2024-05-08 17:41:21,154 : INFO : 1551347022 : Train and Test data made successfully]\n"
     ]
    }
   ],
   "source": [
    "try:\n",
    "    config = ConfigurationManager()\n",
    "    data_transformation_config = config.get_data_transformation_config()\n",
    "    data_transformation = DataTransformation(config=data_transformation_config)\n",
    "    data_transformation.convert()\n",
    "except Exception as e:\n",
    "    raise e"
   ]
  },
  {
   "cell_type": "code",
   "execution_count": null,
   "metadata": {},
   "outputs": [],
   "source": []
  },
  {
   "cell_type": "code",
   "execution_count": null,
   "metadata": {},
   "outputs": [],
   "source": []
  }
 ],
 "metadata": {
  "kernelspec": {
   "display_name": "env",
   "language": "python",
   "name": "python3"
  },
  "language_info": {
   "codemirror_mode": {
    "name": "ipython",
    "version": 3
   },
   "file_extension": ".py",
   "mimetype": "text/x-python",
   "name": "python",
   "nbconvert_exporter": "python",
   "pygments_lexer": "ipython3",
   "version": "3.10.11"
  }
 },
 "nbformat": 4,
 "nbformat_minor": 2
}
