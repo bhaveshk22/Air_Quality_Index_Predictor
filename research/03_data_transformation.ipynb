{
 "cells": [
  {
   "cell_type": "code",
   "execution_count": 13,
   "metadata": {},
   "outputs": [
    {
     "data": {
      "text/plain": [
       "'e:\\\\project_ineuron\\\\Air_Quality_Index_Predictor'"
      ]
     },
     "execution_count": 13,
     "metadata": {},
     "output_type": "execute_result"
    }
   ],
   "source": [
    "import os\n",
    "%pwd"
   ]
  },
  {
   "cell_type": "code",
   "execution_count": 2,
   "metadata": {},
   "outputs": [
    {
     "data": {
      "text/plain": [
       "'e:\\\\project_ineuron\\\\Air_Quality_Index_Predictor'"
      ]
     },
     "execution_count": 2,
     "metadata": {},
     "output_type": "execute_result"
    }
   ],
   "source": [
    "os.chdir(\"../\")\n",
    "%pwd"
   ]
  },
  {
   "cell_type": "code",
   "execution_count": 14,
   "metadata": {},
   "outputs": [],
   "source": [
    "import warnings\n",
    "warnings.filterwarnings(\"ignore\")"
   ]
  },
  {
   "cell_type": "code",
   "execution_count": 15,
   "metadata": {},
   "outputs": [],
   "source": [
    "from dataclasses import dataclass\n",
    "from pathlib import Path\n",
    "\n",
    "\n",
    "@dataclass(frozen=True)\n",
    "class DataTransformationConfig:\n",
    "    root_dir: Path\n",
    "    data_path: Path"
   ]
  },
  {
   "cell_type": "code",
   "execution_count": 16,
   "metadata": {},
   "outputs": [],
   "source": [
    "from Air_Quality_Index_Predictor.constants import *\n",
    "from Air_Quality_Index_Predictor.utils.common import read_yaml, create_directories"
   ]
  },
  {
   "cell_type": "code",
   "execution_count": 17,
   "metadata": {},
   "outputs": [],
   "source": [
    "class ConfigurationManager:\n",
    "    def __init__(\n",
    "        self,\n",
    "        config_filepath = CONFIG_FILE_PATH,\n",
    "        params_filepath = PARAMS_FILE_PATH):\n",
    "\n",
    "        self.config = read_yaml(config_filepath)\n",
    "        self.params = read_yaml(params_filepath)\n",
    "\n",
    "        create_directories([self.config.artifacts_root])\n",
    "\n",
    "\n",
    "    \n",
    "    def get_data_transformation_config(self) -> DataTransformationConfig:\n",
    "        config = self.config.data_transformation\n",
    "\n",
    "        create_directories([config.root_dir])\n",
    "\n",
    "        data_transformation_config = DataTransformationConfig(\n",
    "            root_dir=config.root_dir,\n",
    "            data_path=config.data_path\n",
    "        )\n",
    "\n",
    "        return data_transformation_config"
   ]
  },
  {
   "cell_type": "code",
   "execution_count": 18,
   "metadata": {},
   "outputs": [],
   "source": [
    "import os\n",
    "from Air_Quality_Index_Predictor.utils.common import breakpoints_dict, get_subindex\n",
    "from Air_Quality_Index_Predictor.logging import logger\n",
    "import pandas as pd\n",
    "import numpy as np \n",
    "from datetime import datetime,timedelta"
   ]
  },
  {
   "cell_type": "code",
   "execution_count": 25,
   "metadata": {},
   "outputs": [],
   "source": [
    "class DataTransformation:\n",
    "    def __init__(self, config: DataTransformationConfig):\n",
    "        self.config = config\n",
    "    \n",
    "    def sort_and_set_index(self, df, column_name):\n",
    "        if column_name in df.columns:\n",
    "            df_sorted = df.sort_values(by=column_name).set_index(column_name)\n",
    "        else:\n",
    "            raise KeyError(f\"Column '{column_name}' does not exist in the DataFrame.\")\n",
    "        \n",
    "        return df_sorted\n",
    "    \n",
    "    def rename_pollutants_columns(self, df):\n",
    "        df.rename(columns={'co': 'CO', 'no2': 'NO2', 'o3': 'O3', 'pm10': 'PM10', 'pm2_5': 'PM2.5', 'so2': 'SO2'}, inplace=True)\n",
    "        return df\n",
    "    \n",
    "    def convert_date_column(self, df, date_column, date_format):\n",
    "        df[date_column] = pd.to_datetime(df[date_column], format=date_format)\n",
    "        return df   \n",
    "\n",
    "    def set_negative_to_zero(self, df, column_name):\n",
    "        df[column_name] = df[column_name].apply(lambda x: max(x, 1))\n",
    "        return df\n",
    "    \n",
    "    def round_pollutant_values(self, df, pollutant_columns):\n",
    "        for column in pollutant_columns:\n",
    "            if column in df.columns:\n",
    "                df[column] = df[column].round(3)\n",
    "            else:\n",
    "                raise KeyError(f\"Column '{column}' does not exist in the DataFrame.\")\n",
    "        \n",
    "        return df\n",
    "    \n",
    "    def fill_missing_dates_with_median(self, df, start_date='2018-01-01', end_date='2024-05-30'):\n",
    "        full_date_range = pd.date_range(start=start_date, end=end_date)\n",
    "        \n",
    "        # Find unique cities\n",
    "        cities = df['city'].unique()\n",
    "\n",
    "        # List to store new rows to be added\n",
    "        new_rows = []\n",
    "\n",
    "        # Loop through each city and find missing dates\n",
    "        for city in cities:\n",
    "            city_df = df[df['city'] == city]\n",
    "            city_dates = city_df['date']\n",
    "            missing_dates = full_date_range.difference(city_dates)\n",
    "            \n",
    "            if not missing_dates.empty:\n",
    "                for missing_date in missing_dates:\n",
    "                    week_start = missing_date - pd.Timedelta(days=missing_date.weekday())\n",
    "                    week_end = week_start + pd.Timedelta(days=6)\n",
    "                    week_data = city_df[(city_df['date'] >= week_start) & (city_df['date'] <= week_end)]\n",
    "                    \n",
    "                    if not week_data.empty:\n",
    "                        median_values = week_data[['CO', 'NO2', 'O3', 'PM10', 'PM2.5', 'SO2']].median()\n",
    "                        new_row = {\n",
    "                            'city': city,\n",
    "                            'date': missing_date,\n",
    "                            'CO': median_values['CO'],\n",
    "                            'NO2': median_values['NO2'],\n",
    "                            'O3': median_values['O3'],\n",
    "                            'PM10': median_values['PM10'],\n",
    "                            'PM2.5': median_values['PM2.5'],\n",
    "                            'SO2': median_values['SO2']\n",
    "                        }\n",
    "                        new_rows.append(new_row)\n",
    "\n",
    "        # Create a DataFrame from the new rows\n",
    "        new_rows_df = pd.DataFrame(new_rows)\n",
    "\n",
    "        # Concatenate the new rows with the original DataFrame\n",
    "        df = pd.concat([df, new_rows_df], ignore_index=True)\n",
    "\n",
    "        # Ensure the DataFrame is sorted by city and date\n",
    "        df = df.sort_values(by=['city', 'date']).reset_index(drop=True)\n",
    "\n",
    "        return df\n",
    "    \n",
    "    def calculate_subindices(self, df, breakpoints_dict):\n",
    "        subindices = {}\n",
    "        for column, breakpoints in breakpoints_dict.items():\n",
    "            subindices[column] = df[column].apply(lambda x: get_subindex(x, breakpoints))\n",
    "        return subindices\n",
    "\n",
    "    def calculate_AQI(self, new_df):\n",
    "        new_df[\"AQI_calculated\"] = round(new_df[[\"PM2.5_SubIndex\", \"PM10_SubIndex\", \"SO2_SubIndex\", \"NO2_SubIndex\",\n",
    "                                        \"CO_SubIndex\", \"O3_SubIndex\"]].max(axis=1))\n",
    "        new_df.loc[new_df[\"PM2.5_SubIndex\"] + new_df[\"PM10_SubIndex\"] <= 0, \"AQI_calculated\"] = np.NaN\n",
    "        return new_df\n",
    "    \n",
    "    \n",
    "    def select_columns(self, df, columns_to_keep):\n",
    "        df = df[columns_to_keep]\n",
    "        return df\n",
    "    \n",
    "    def convert(self):\n",
    "        dataset = pd.read_csv(self.config.data_path)\n",
    "        logger.info(\"Data read successfully\")\n",
    "\n",
    "        dataset = self.sort_and_set_index(dataset, 'id')\n",
    "        logger.info(\"Data Sorted successfully\")\n",
    "                    \n",
    "        dataset = self.rename_pollutants_columns(dataset)\n",
    "\n",
    "        logger.info(\"Data renamed successfully\")\n",
    "\n",
    "        dataset = self.convert_date_column(dataset, 'date', \"%d-%m-%Y\")\n",
    "        logger.info(\"Date data adjusted successfully\")\n",
    "        dataset = self.set_negative_to_zero(dataset, 'O3')\n",
    "        logger.info(\"O3 data adjusted successfully\")\n",
    "\n",
    "        dataset = self.fill_missing_dates_with_median(dataset)\n",
    "        logger.info(\"Missing dates filled successfully\")\n",
    "\n",
    "        pollutant_columns = ['CO', 'NO2', 'O3', 'PM10', 'PM2.5', 'SO2']\n",
    "        dataset = self.round_pollutant_values(dataset, pollutant_columns)\n",
    "        logger.info(\"Date values adjusted successfully\")\n",
    "\n",
    "        subindices = self.calculate_subindices(dataset, breakpoints_dict)\n",
    "        logger.info(\"Data subindices calculated successfully\")\n",
    "\n",
    "        for column, subindex_values in subindices.items():\n",
    "            dataset[f\"{column}_SubIndex\"] = subindex_values\n",
    "        logger.info(\"Data subindex added  successfully\")\n",
    "\n",
    "        dataset = self.calculate_AQI(dataset)\n",
    "        logger.info(\"Data AQI calculated successfully\")\n",
    "        \n",
    "        dataset = self.select_columns(dataset, ['date','city','CO', 'NO2', 'O3', 'PM10', 'PM2.5', 'SO2','AQI_calculated'])\n",
    "        logger.info(\"Column selected successfully\")\n",
    "\n",
    "        dataset.set_index('date', inplace=True)\n",
    "        dataset = dataset.sort_index(ascending=True)\n",
    "\n",
    "        train_dataset_end = pd.Timestamp(datetime(2023, 12, 30))\n",
    "        test_dataset_start = train_dataset_end + timedelta(days=1) \n",
    "        test_dataset_end = pd.Timestamp(datetime(2024, 5, 31))\n",
    "\n",
    "        train_data = dataset.loc[:train_dataset_end]\n",
    "        test_data = dataset.loc[test_dataset_start:test_dataset_end]\n",
    "        \n",
    "        train_data.to_csv(os.path.join(self.config.root_dir, \"train_dataset.csv\"))\n",
    "        test_data.to_csv(os.path.join(self.config.root_dir, \"test_dataset.csv\"))\n",
    "        logger.info(\"Train and Test data made successfully\")\n"
   ]
  },
  {
   "cell_type": "code",
   "execution_count": 27,
   "metadata": {},
   "outputs": [
    {
     "name": "stdout",
     "output_type": "stream",
     "text": [
      "[2024-06-07 22:20:17,372 : INFO : common : yaml file: config\\config.yaml loaded successfully]\n",
      "[2024-06-07 22:20:17,376 : INFO : common : yaml file: params.yaml loaded successfully]\n",
      "[2024-06-07 22:20:17,380 : INFO : common : Created directory at: artifacts]\n",
      "[2024-06-07 22:20:17,382 : INFO : common : Created directory at: artifacts/data_transformation]\n",
      "[2024-06-07 22:20:17,472 : INFO : 4091047123 : Data read successfully]\n",
      "[2024-06-07 22:20:17,482 : INFO : 4091047123 : Data Sorted successfully]\n",
      "[2024-06-07 22:20:17,484 : INFO : 4091047123 : Data renamed successfully]\n",
      "[2024-06-07 22:20:17,520 : INFO : 4091047123 : Date data adjusted successfully]\n",
      "[2024-06-07 22:20:17,552 : INFO : 4091047123 : O3 data adjusted successfully]\n",
      "[2024-06-07 22:20:24,001 : INFO : 4091047123 : Missing dates filled successfully]\n",
      "[2024-06-07 22:20:24,007 : INFO : 4091047123 : Date values adjusted successfully]\n",
      "[2024-06-07 22:20:24,231 : INFO : 4091047123 : Data subindices calculated successfully]\n",
      "[2024-06-07 22:20:24,236 : INFO : 4091047123 : Data subindex added  successfully]\n",
      "[2024-06-07 22:20:24,250 : INFO : 4091047123 : Data AQI calculated successfully]\n",
      "[2024-06-07 22:20:24,259 : INFO : 4091047123 : Column selected successfully]\n",
      "[2024-06-07 22:20:24,571 : INFO : 4091047123 : Train and Test data made successfully]\n"
     ]
    }
   ],
   "source": [
    "try:\n",
    "    config = ConfigurationManager()\n",
    "    data_transformation_config = config.get_data_transformation_config()\n",
    "    data_transformation = DataTransformation(config=data_transformation_config)\n",
    "    data_transformation.convert()\n",
    "except Exception as e:\n",
    "    raise e"
   ]
  },
  {
   "cell_type": "code",
   "execution_count": null,
   "metadata": {},
   "outputs": [],
   "source": []
  },
  {
   "cell_type": "code",
   "execution_count": null,
   "metadata": {},
   "outputs": [],
   "source": []
  }
 ],
 "metadata": {
  "kernelspec": {
   "display_name": "env",
   "language": "python",
   "name": "python3"
  },
  "language_info": {
   "codemirror_mode": {
    "name": "ipython",
    "version": 3
   },
   "file_extension": ".py",
   "mimetype": "text/x-python",
   "name": "python",
   "nbconvert_exporter": "python",
   "pygments_lexer": "ipython3",
   "version": "3.10.11"
  }
 },
 "nbformat": 4,
 "nbformat_minor": 2
}
