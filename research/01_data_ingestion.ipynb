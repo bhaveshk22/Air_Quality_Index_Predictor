{
 "cells": [
  {
   "cell_type": "code",
   "execution_count": 1,
   "metadata": {},
   "outputs": [
    {
     "data": {
      "text/plain": [
       "'e:\\\\project_ineuron\\\\Air_Quality_Index_Predictor\\\\research'"
      ]
     },
     "execution_count": 1,
     "metadata": {},
     "output_type": "execute_result"
    }
   ],
   "source": [
    "import os\n",
    "%pwd"
   ]
  },
  {
   "cell_type": "code",
   "execution_count": 2,
   "metadata": {},
   "outputs": [
    {
     "data": {
      "text/plain": [
       "'e:\\\\project_ineuron\\\\Air_Quality_Index_Predictor'"
      ]
     },
     "execution_count": 2,
     "metadata": {},
     "output_type": "execute_result"
    }
   ],
   "source": [
    "os.chdir(\"../\")\n",
    "%pwd"
   ]
  },
  {
   "cell_type": "code",
   "execution_count": 3,
   "metadata": {},
   "outputs": [],
   "source": [
    "from dataclasses import dataclass\n",
    "from pathlib import Path\n",
    "from typing import List\n",
    "\n",
    "@dataclass(frozen=True)\n",
    "class DataIngestionConfig:\n",
    "    root_dir: Path  # Root directory where data will be stored\n",
    "    secure_connect_bundle: Path  # Path to the secure connect bundle for connecting to AstraDB\n",
    "    username: str  # AstraDB username\n",
    "    password: str  # AstraDB password\n",
    "    keyspace: str  # Keyspace in AstraDB\n",
    "    table_name: List[str]  # List ofTable name in AstraDB\n",
    "    region_name: str # Region name in AstraDB\n",
    "    output_file: Path  # Path to save the downloaded data"
   ]
  },
  {
   "cell_type": "code",
   "execution_count": 4,
   "metadata": {},
   "outputs": [],
   "source": [
    "from Air_Quality_Index_Predictor.constants import *\n",
    "from Air_Quality_Index_Predictor.utils.common import read_yaml, create_directories"
   ]
  },
  {
   "cell_type": "code",
   "execution_count": 5,
   "metadata": {},
   "outputs": [],
   "source": [
    "class ConfigurationManager:\n",
    "    def __init__(\n",
    "        self,\n",
    "        config_filepath = CONFIG_FILE_PATH,\n",
    "        params_filepath = PARAMS_FILE_PATH):\n",
    "\n",
    "        self.config = read_yaml(config_filepath)\n",
    "        self.params = read_yaml(params_filepath)\n",
    "\n",
    "        create_directories([self.config.artifacts_root])\n",
    "\n",
    "    \n",
    "\n",
    "    def get_data_ingestion_config(self) -> DataIngestionConfig:\n",
    "        config = self.config.data_ingestion\n",
    "\n",
    "        create_directories([config.root_dir])\n",
    "\n",
    "        data_ingestion_config = DataIngestionConfig(\n",
    "            root_dir = config.root_dir,\n",
    "            secure_connect_bundle = config.secure_connect_bundle, \n",
    "            username = config.username, \n",
    "            password = config.password, \n",
    "            keyspace = config.keyspace,  \n",
    "            table_name = config.table_name, \n",
    "            region_name = config.region_name,\n",
    "            output_file = config.output_file  \n",
    "        )\n",
    "\n",
    "        return data_ingestion_config"
   ]
  },
  {
   "cell_type": "code",
   "execution_count": 6,
   "metadata": {},
   "outputs": [],
   "source": [
    "from cassandra.cluster import Cluster\n",
    "import pandas as pd\n",
    "from cassandra.auth import PlainTextAuthProvider\n",
    "from Air_Quality_Index_Predictor.logging import logger\n"
   ]
  },
  {
   "cell_type": "code",
   "execution_count": 7,
   "metadata": {},
   "outputs": [],
   "source": [
    "class DataIngestion:\n",
    "    def __init__(self, config: DataIngestionConfig):\n",
    "        self.config = config\n",
    "        \n",
    "    def download_data(self):\n",
    "        # Create a connection to the AstraDB cluster\n",
    "        protocol_version = 4\n",
    "        cloud_config = {'secure_connect_bundle': str(self.config.secure_connect_bundle)}\n",
    "        auth_provider = PlainTextAuthProvider(username=self.config.username, password=self.config.password)\n",
    "        cluster = Cluster(cloud=cloud_config, auth_provider=auth_provider,protocol_version=protocol_version)\n",
    "        session = cluster.connect(self.config.keyspace)\n",
    "        session.default_timeout = 5000\n",
    "\n",
    "        try:\n",
    "            query = f\"SELECT * FROM {self.config.table_name}\"\n",
    "            result_set = session.execute(query)\n",
    "            df = pd.DataFrame(list(result_set))\n",
    "\n",
    "            df.to_csv(self.config.output_file, index=False)\n",
    "            logger.info(f\"Data downloaded and saved to {self.config.output_file}\")\n",
    "                \n",
    "\n",
    "        except Exception as e:\n",
    "            logger.error(f\"Error downloading data: {e}\")\n",
    "            raise e\n",
    "\n",
    "        finally:\n",
    "            # Close the session and cluster\n",
    "            session.shutdown()\n",
    "            cluster.shutdown()\n"
   ]
  },
  {
   "cell_type": "code",
   "execution_count": 10,
   "metadata": {},
   "outputs": [
    {
     "name": "stdout",
     "output_type": "stream",
     "text": [
      "[2024-05-05 16:47:36,917 : INFO : common : yaml file: config\\config.yaml loaded successfully]\n",
      "[2024-05-05 16:47:36,922 : INFO : common : yaml file: params.yaml loaded successfully]\n",
      "[2024-05-05 16:47:36,948 : INFO : common : Created directory at: artifacts]\n",
      "[2024-05-05 16:47:36,958 : INFO : common : Created directory at: artifacts/data_ingestion]\n",
      "[2024-05-05 16:47:39,900 : INFO : policies : Using datacenter 'eu-west-1' for DCAwareRoundRobinPolicy (via host '1719142e-d68a-4d8a-96b1-b28dda57b8a7-eu-west-1.db.astra.datastax.com:29042:7cf4a33d-de22-449c-af7e-d307eaf194b4'); if incorrect, please specify a local_dc to the constructor, or limit contact points to local cluster nodes]\n",
      "[2024-05-05 16:54:12,140 : INFO : 244541548 : Data downloaded and saved to artifacts/data_ingestion/data.csv]\n"
     ]
    }
   ],
   "source": [
    "try:\n",
    "    config = ConfigurationManager()\n",
    "    data_ingestion_config = config.get_data_ingestion_config()\n",
    "    data_ingestion = DataIngestion(config=data_ingestion_config)\n",
    "    data_ingestion.download_data()\n",
    "except Exception as e:\n",
    "    raise e"
   ]
  },
  {
   "cell_type": "code",
   "execution_count": null,
   "metadata": {},
   "outputs": [],
   "source": []
  }
 ],
 "metadata": {
  "kernelspec": {
   "display_name": "textS",
   "language": "python",
   "name": "python3"
  },
  "language_info": {
   "codemirror_mode": {
    "name": "ipython",
    "version": 3
   },
   "file_extension": ".py",
   "mimetype": "text/x-python",
   "name": "python",
   "nbconvert_exporter": "python",
   "pygments_lexer": "ipython3",
   "version": "3.10.11"
  },
  "orig_nbformat": 4
 },
 "nbformat": 4,
 "nbformat_minor": 2
}
